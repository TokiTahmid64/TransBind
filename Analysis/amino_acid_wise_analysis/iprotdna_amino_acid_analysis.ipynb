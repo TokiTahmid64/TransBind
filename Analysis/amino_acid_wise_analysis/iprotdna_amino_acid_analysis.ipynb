{
  "nbformat": 4,
  "nbformat_minor": 0,
  "metadata": {
    "colab": {
      "provenance": []
    },
    "kernelspec": {
      "name": "python3",
      "display_name": "Python 3"
    },
    "language_info": {
      "name": "python"
    }
  },
  "cells": [
    {
      "cell_type": "code",
      "execution_count": null,
      "metadata": {
        "id": "GWMZ2K5_ijlN"
      },
      "outputs": [],
      "source": [
        "import pandas as pd\n",
        "import math\n",
        "import numpy as np"
      ]
    },
    {
      "cell_type": "code",
      "source": [
        "# from google.colab import drive\n",
        "# drive.mount('/content/drive')"
      ],
      "metadata": {
        "id": "6XtQ4Epki66a"
      },
      "execution_count": null,
      "outputs": []
    },
    {
      "cell_type": "code",
      "source": [
        "import sklearn\n",
        "from sklearn.metrics import matthews_corrcoef\n",
        "from sklearn.metrics import classification_report\n",
        "from sklearn.metrics import accuracy_score\n",
        "from sklearn.metrics import precision_score\n",
        "from sklearn.metrics import recall_score\n",
        "def report(y_t,y_p):\n",
        "    acc=accuracy_score(y_t,y_p)\n",
        "    pre=precision_score(y_t,y_p)\n",
        "    rec=recall_score(y_t,y_p)\n",
        "    spec=recall_score(y_t, y_p, pos_label=0)\n",
        "    mt=matthews_corrcoef(y_t, y_p)\n",
        "    \n",
        "    print(\"Recll: \"+str(rec))\n",
        "    print(\"Specificity: \"+str(spec))\n",
        "    res=[acc,pre,rec,spec,mt]\n",
        "    return res\n",
        "\n"
      ],
      "metadata": {
        "id": "UX2kkQlKJhS0"
      },
      "execution_count": null,
      "outputs": []
    },
    {
      "cell_type": "code",
      "source": [
        "xls = pd.ExcelFile('/content/drive/MyDrive/Bayezid sir/residue_level/database/amino_acid_analysis/iprodna/pdna_316_20.xlsx')\n",
        "dfs={}\n",
        "for i in range(20):\n",
        "  dfs[\"df\"+str(i+1)]=pd.read_excel(xls, 'Sheet'+str(i+1))\n",
        "  print(dfs[\"df\"+str(i+1)].shape)\n",
        "# df1 = pd.read_excel(xls, 'Sheet1')\n",
        "# df2 = pd.read_excel(xls, 'Sheet2')"
      ],
      "metadata": {
        "id": "BwC6bZfZjCxv",
        "colab": {
          "base_uri": "https://localhost:8080/"
        },
        "outputId": "1e928e3d-8e12-4f70-8cb2-a5893bb92776"
      },
      "execution_count": null,
      "outputs": [
        {
          "output_type": "stream",
          "name": "stdout",
          "text": [
            "(31, 12)\n",
            "(31, 12)\n",
            "(31, 12)\n",
            "(21, 12)\n",
            "(20, 12)\n",
            "(31, 12)\n",
            "(31, 12)\n",
            "(24, 12)\n",
            "(31, 12)\n",
            "(21, 12)\n",
            "(31, 12)\n",
            "(31, 12)\n",
            "(31, 12)\n",
            "(31, 12)\n",
            "(31, 12)\n",
            "(31, 12)\n",
            "(31, 12)\n",
            "(31, 12)\n",
            "(31, 12)\n",
            "(31, 12)\n"
          ]
        }
      ]
    },
    {
      "cell_type": "code",
      "source": [
        "xls = pd.ExcelFile('/content/drive/MyDrive/Bayezid sir/residue_level/database/amino_acid_analysis/iprodna/pdna_543_10.xlsx')\n",
        "dfs_2={}\n",
        "for i in range(15):\n",
        "  dfs_2[\"df\"+str(i+1)]=pd.read_excel(xls, 'Sheet'+str(i+1))\n",
        "  print(dfs_2[\"df\"+str(i+1)].shape)\n",
        "# df1 = pd.read_excel(xls, 'Sheet1')\n",
        "# df2 = pd.read_excel(xls, 'Sheet2')"
      ],
      "metadata": {
        "colab": {
          "base_uri": "https://localhost:8080/"
        },
        "id": "PYuEUx-RJrRT",
        "outputId": "66ccb76c-523f-41f3-b625-f2e66a9139cc"
      },
      "execution_count": null,
      "outputs": [
        {
          "output_type": "stream",
          "name": "stdout",
          "text": [
            "(31, 12)\n",
            "(24, 12)\n",
            "(31, 12)\n",
            "(31, 12)\n",
            "(31, 12)\n",
            "(26, 12)\n",
            "(31, 12)\n",
            "(31, 12)\n",
            "(31, 12)\n",
            "(31, 12)\n",
            "(31, 12)\n",
            "(31, 12)\n",
            "(31, 12)\n",
            "(31, 12)\n",
            "(31, 12)\n"
          ]
        }
      ]
    },
    {
      "cell_type": "code",
      "source": [
        "xls = pd.ExcelFile('/content/drive/MyDrive/Bayezid sir/residue_level/database/amino_acid_analysis/iprodna/pdna_224.xlsx')\n",
        "dfs_3={}\n",
        "for i in range(12):\n",
        "  dfs_3[\"df\"+str(i+1)]=pd.read_excel(xls, 'Sheet'+str(i+1))\n",
        "  print(dfs_3[\"df\"+str(i+1)].shape)\n",
        "# df1 = pd.read_excel(xls, 'Sheet1')\n",
        "# df2 = pd.read_excel(xls, 'Sheet2')"
      ],
      "metadata": {
        "colab": {
          "base_uri": "https://localhost:8080/"
        },
        "id": "ZRRSJOPdF4oh",
        "outputId": "518f2afc-ed2d-4617-ed3d-08e636dd10dc"
      },
      "execution_count": null,
      "outputs": [
        {
          "output_type": "stream",
          "name": "stdout",
          "text": [
            "(18, 12)\n",
            "(31, 12)\n",
            "(31, 12)\n",
            "(31, 12)\n",
            "(15, 12)\n",
            "(31, 12)\n",
            "(31, 12)\n",
            "(31, 12)\n",
            "(31, 12)\n",
            "(31, 12)\n",
            "(31, 12)\n",
            "(31, 12)\n"
          ]
        }
      ]
    },
    {
      "cell_type": "code",
      "source": [
        "labels=[]\n",
        "for keys in dfs.keys():\n",
        "  df1=dfs[keys]\n",
        "  df1=df1[[\"Res #\",\"N/B\",\"Res #.1\",\"N/B.1\",\"Res #.2\",\"N/B.2\"]]\n",
        "  k=0\n",
        "  for i in range(df1.shape[0]):\n",
        "    x=df1.loc[i][[\"N/B\",\"N/B.1\",\"N/B.2\"]].values[0]\n",
        "    if (not isinstance(x,float)):\n",
        "      labels.append(x)\n",
        "      k+=1\n",
        "    x=df1.loc[i][[\"N/B\",\"N/B.1\",\"N/B.2\"]].values[1]\n",
        "    if (not isinstance(x,float)):\n",
        "      labels.append(x)\n",
        "      k+=1\n",
        "    x=df1.loc[i][[\"N/B\",\"N/B.1\",\"N/B.2\"]].values[2]\n",
        "    if (not isinstance(x,float)):\n",
        "      labels.append(x)\n",
        "      k+=1\n",
        " \n"
      ],
      "metadata": {
        "id": "qMOWl4CKtvqZ"
      },
      "execution_count": null,
      "outputs": []
    },
    {
      "cell_type": "code",
      "source": [
        "labels2=[]\n",
        "for keys in dfs_2.keys():\n",
        "  df2=dfs_2[keys]\n",
        "  df2=df2[[\"Res #\",\"N/B\",\"Res #.1\",\"N/B.1\",\"Res #.2\",\"N/B.2\"]]\n",
        "  k=0\n",
        "  for i in range(df2.shape[0]):\n",
        "    x=df2.loc[i][[\"N/B\",\"N/B.1\",\"N/B.2\"]].values[0]\n",
        "    if (not isinstance(x,float)):\n",
        "      labels2.append(x)\n",
        "      k+=1\n",
        "    x=df2.loc[i][[\"N/B\",\"N/B.1\",\"N/B.2\"]].values[1]\n",
        "    if (not isinstance(x,float)):\n",
        "      labels2.append(x)\n",
        "      k+=1\n",
        "    x=df2.loc[i][[\"N/B\",\"N/B.1\",\"N/B.2\"]].values[2]\n",
        "    if (not isinstance(x,float)):\n",
        "      labels2.append(x)\n",
        "      k+=1\n",
        " \n"
      ],
      "metadata": {
        "id": "HWbq9Cr0ARLw"
      },
      "execution_count": null,
      "outputs": []
    },
    {
      "cell_type": "code",
      "source": [
        "labels3=[]\n",
        "for keys in dfs_3.keys():\n",
        "  df3=dfs_3[keys]\n",
        "  df3=df3[[\"Res #\",\"N/B\",\"Res #.1\",\"N/B.1\",\"Res #.2\",\"N/B.2\"]]\n",
        "  k=0\n",
        "  for i in range(df3.shape[0]):\n",
        "    x=df3.loc[i][[\"N/B\",\"N/B.1\",\"N/B.2\"]].values[0]\n",
        "    if (not isinstance(x,float)):\n",
        "      labels3.append(x)\n",
        "      k+=1\n",
        "    x=df3.loc[i][[\"N/B\",\"N/B.1\",\"N/B.2\"]].values[1]\n",
        "    if (not isinstance(x,float)):\n",
        "      labels3.append(x)\n",
        "      k+=1\n",
        "    x=df3.loc[i][[\"N/B\",\"N/B.1\",\"N/B.2\"]].values[2]\n",
        "    if (not isinstance(x,float)):\n",
        "      labels3.append(x)\n",
        "      k+=1\n",
        " \n"
      ],
      "metadata": {
        "id": "_MvKOo8KJzSC"
      },
      "execution_count": null,
      "outputs": []
    },
    {
      "cell_type": "code",
      "source": [
        "i=0\n",
        "for item in labels:\n",
        "  if item==\"B\":\n",
        "    labels[i]=1\n",
        "  else: \n",
        "    labels[i]=0\n",
        "  i+=1\n",
        "labels=np.array(labels)\n",
        "labels.shape"
      ],
      "metadata": {
        "id": "ZHcKjg_Gj9yG",
        "colab": {
          "base_uri": "https://localhost:8080/"
        },
        "outputId": "ec7e58ca-fad9-4cea-f848-dd01b1e3afe8"
      },
      "execution_count": null,
      "outputs": [
        {
          "output_type": "execute_result",
          "data": {
            "text/plain": [
              "(1728,)"
            ]
          },
          "metadata": {},
          "execution_count": 10
        }
      ]
    },
    {
      "cell_type": "code",
      "source": [
        "i=0\n",
        "for item in labels2:\n",
        "  if item==\"B\":\n",
        "    labels2[i]=1\n",
        "  else: \n",
        "    labels2[i]=0\n",
        "  i+=1\n",
        "labels2=np.array(labels2)\n",
        "labels2.shape"
      ],
      "metadata": {
        "id": "suAPAwkPpdSg",
        "colab": {
          "base_uri": "https://localhost:8080/"
        },
        "outputId": "adc32e85-25ee-4da6-a5e6-96afa4aa0ebf"
      },
      "execution_count": null,
      "outputs": [
        {
          "output_type": "execute_result",
          "data": {
            "text/plain": [
              "(1345,)"
            ]
          },
          "metadata": {},
          "execution_count": 11
        }
      ]
    },
    {
      "cell_type": "code",
      "source": [
        "i=0\n",
        "for item in labels3:\n",
        "  if item==\"B\":\n",
        "    labels3[i]=1\n",
        "  else: \n",
        "    labels3[i]=0\n",
        "  i+=1\n",
        "labels3=np.array(labels3)\n",
        "labels3.shape"
      ],
      "metadata": {
        "colab": {
          "base_uri": "https://localhost:8080/"
        },
        "id": "3QoNWCodGycR",
        "outputId": "981d57f3-1d74-4493-dab2-c1c9fe44d09a"
      },
      "execution_count": null,
      "outputs": [
        {
          "output_type": "execute_result",
          "data": {
            "text/plain": [
              "(1026,)"
            ]
          },
          "metadata": {},
          "execution_count": 12
        }
      ]
    },
    {
      "cell_type": "code",
      "source": [
        "import pickle\n"
      ],
      "metadata": {
        "id": "jfBhOVIgAU3P"
      },
      "execution_count": null,
      "outputs": []
    },
    {
      "cell_type": "code",
      "source": [
        "import pickle\n",
        "with open(\"/content/drive/MyDrive/Bayezid sir/residue_level/database/label_316_iprodna_significance\", \"wb\") as fp:   #Pickling\n",
        "   pickle.dump(labels, fp)\n",
        "\n",
        "\n",
        "with open(\"/content/drive/MyDrive/Bayezid sir/residue_level/database/label_543_iprodna_significance\", \"wb\") as fp:   #Pickling\n",
        "   pickle.dump(labels2, fp)\n",
        "\n",
        "\n",
        "with open(\"/content/drive/MyDrive/Bayezid sir/residue_level/database/label_224_iprodna_significance\", \"wb\") as fp:   #Pickling\n",
        "   pickle.dump(labels3, fp)"
      ],
      "metadata": {
        "id": "GlHIMjFoAU5g"
      },
      "execution_count": null,
      "outputs": []
    },
    {
      "cell_type": "code",
      "source": [],
      "metadata": {
        "id": "OSdaSeJYAU7y"
      },
      "execution_count": null,
      "outputs": []
    },
    {
      "cell_type": "markdown",
      "source": [
        "#Actual values"
      ],
      "metadata": {
        "id": "Ez-zuRk-3AkZ"
      }
    },
    {
      "cell_type": "code",
      "source": [
        "#importing files\n",
        "seq= open(\"/content/drive/MyDrive/Bayezid sir/residue_level/database/amino_acid_analysis/iprodna/Copy of pdna316_label.txt\", \"r\")\n",
        "count=0\n",
        "protein_list=[]\n",
        "c=0\n",
        "for x in seq:\n",
        "    \n",
        "    if(count%2==1):\n",
        "      c+=1\n",
        "      if(c==21):\n",
        "        break\n",
        "      #print(x)\n",
        "        \n",
        "      x=x.replace('\\n','')\n",
        "      x=\",\".join(x)\n",
        "      protein_list.append(x)\n",
        "    count+=1"
      ],
      "metadata": {
        "id": "bFslHUjq3CPQ"
      },
      "execution_count": null,
      "outputs": []
    },
    {
      "cell_type": "code",
      "source": [
        "#importing files\n",
        "seq_2= open(\"/content/drive/MyDrive/Bayezid sir/residue_level/database/amino_acid_analysis/iprodna/Copy of PDNA543_label.txt\", \"r\")\n",
        "count=0\n",
        "protein_list_2=[]\n",
        "c=0\n",
        "for x in seq_2:\n",
        "    \n",
        "    if(count%2==1):\n",
        "      c+=1\n",
        "      if(c==16):\n",
        "        break\n",
        "      #print(x)\n",
        "        \n",
        "      x=x.replace('\\n','')\n",
        "      x=\",\".join(x)\n",
        "      protein_list_2.append(x)\n",
        "    count+=1"
      ],
      "metadata": {
        "id": "LeX3JJaFDdCI"
      },
      "execution_count": null,
      "outputs": []
    },
    {
      "cell_type": "code",
      "source": [
        "#importing files\n",
        "seq_3= open(\"/content/drive/MyDrive/Bayezid sir/residue_level/database/amino_acid_analysis/iprodna/Copy of pdna224.txt\", \"r\")\n",
        "count=0\n",
        "protein_list_3=[]\n",
        "c=0\n",
        "for x in seq_3:\n",
        "    \n",
        "    if(count%3==2):\n",
        "      c+=1\n",
        "      if(c==13):\n",
        "        break\n",
        "      #print(x)\n",
        "        \n",
        "      x=x.replace('\\n','')\n",
        "      x=\",\".join(x)\n",
        "      protein_list_3.append(x)\n",
        "    count+=1"
      ],
      "metadata": {
        "id": "aLSjPH_ZG7sI"
      },
      "execution_count": null,
      "outputs": []
    },
    {
      "cell_type": "code",
      "source": [
        "count=0\n",
        "actual=[]\n",
        "for item in protein_list:\n",
        "  item=item.replace(',','')\n",
        "  if(len(item)>93):\n",
        "    item=item[0:92]\n",
        "\n",
        "  for i in item:\n",
        "    if(i!=\",\"):\n",
        "      actual.append(int(i))\n",
        "\n",
        "      count+=1\n",
        "\n",
        "print(count)\n",
        "      "
      ],
      "metadata": {
        "colab": {
          "base_uri": "https://localhost:8080/"
        },
        "id": "Ez49pGGB3rIS",
        "outputId": "be8eb40b-99ec-464d-befa-403757fb0522"
      },
      "execution_count": null,
      "outputs": [
        {
          "output_type": "stream",
          "name": "stdout",
          "text": [
            "1728\n"
          ]
        }
      ]
    },
    {
      "cell_type": "code",
      "source": [
        "count=0\n",
        "actual_2=[]\n",
        "for item in protein_list_2:\n",
        "  item=item.replace(',','')\n",
        "  if(len(item)>93):\n",
        "    item=item[0:92]\n",
        "\n",
        "  for i in item:\n",
        "    if(i!=\",\"):\n",
        "      actual_2.append(int(i))\n",
        "\n",
        "      count+=1\n",
        "\n",
        "print(count)\n",
        "      "
      ],
      "metadata": {
        "colab": {
          "base_uri": "https://localhost:8080/"
        },
        "id": "oL9Dwd3VL1Ub",
        "outputId": "91c359ba-c6b2-4ba5-c6d5-48ed1f3e1790"
      },
      "execution_count": null,
      "outputs": [
        {
          "output_type": "stream",
          "name": "stdout",
          "text": [
            "1345\n"
          ]
        }
      ]
    },
    {
      "cell_type": "code",
      "source": [
        "count=0\n",
        "actual_3=[]\n",
        "for item in protein_list_3:\n",
        "  item=item.replace(',','')\n",
        "  if(len(item)>93):\n",
        "    item=item[0:92]\n",
        "\n",
        "  for i in item:\n",
        "    if(i!=\",\"):\n",
        "      actual_3.append(int(i))\n",
        "\n",
        "      count+=1\n",
        "\n",
        "print(count)\n",
        "      "
      ],
      "metadata": {
        "colab": {
          "base_uri": "https://localhost:8080/"
        },
        "id": "wwwbkFhhHhSb",
        "outputId": "1bc7c0b2-4c9e-4da8-dcd9-e58706a5de98"
      },
      "execution_count": null,
      "outputs": [
        {
          "output_type": "stream",
          "name": "stdout",
          "text": [
            "997\n"
          ]
        }
      ]
    },
    {
      "cell_type": "code",
      "source": [
        "actual=np.array(actual)\n",
        "actual_2=np.array(actual_2)\n",
        "actual_3=np.array(actual_3)\n"
      ],
      "metadata": {
        "id": "We7hYzgS7XZj"
      },
      "execution_count": null,
      "outputs": []
    },
    {
      "cell_type": "code",
      "source": [
        "print(actual.shape)\n",
        "print(actual_2.shape)\n",
        "print(actual_3.shape)"
      ],
      "metadata": {
        "colab": {
          "base_uri": "https://localhost:8080/"
        },
        "id": "k4IR3pq6sZ0k",
        "outputId": "89906ef7-0223-44f5-caf4-7a933e87c553"
      },
      "execution_count": null,
      "outputs": [
        {
          "output_type": "stream",
          "name": "stdout",
          "text": [
            "(1728,)\n",
            "(1345,)\n",
            "(997,)\n"
          ]
        }
      ]
    },
    {
      "cell_type": "code",
      "source": [
        "#importing files\n",
        "seq= open(\"/content/drive/MyDrive/Bayezid sir/residue_level/database/amino_acid_analysis/iprodna/Copy of pdna316_seq.txt\", \"r\")\n",
        "count=0\n",
        "protein_list=[]\n",
        "c=0\n",
        "for x in seq:\n",
        "    \n",
        "    if(count%2==1):\n",
        "      c+=1\n",
        "      if(c==21):\n",
        "        break\n",
        "      #print(x)\n",
        "        \n",
        "      x=x.replace('\\n','')\n",
        "      x=\",\".join(x)\n",
        "      protein_list.append(x)\n",
        "    count+=1"
      ],
      "metadata": {
        "id": "ks2Iyb4TCj5Z"
      },
      "execution_count": null,
      "outputs": []
    },
    {
      "cell_type": "code",
      "source": [
        "#importing files\n",
        "seq_2= open(\"/content/drive/MyDrive/Bayezid sir/residue_level/database/amino_acid_analysis/iprodna/Copy of PDNA543_seq.txt\", \"r\")\n",
        "count=0\n",
        "protein_list_2=[]\n",
        "c=0\n",
        "for x in seq_2:\n",
        "    \n",
        "    if(count%2==1):\n",
        "      c+=1\n",
        "      if(c==16):\n",
        "        break\n",
        "      #print(x)\n",
        "        \n",
        "      x=x.replace('\\n','')\n",
        "      x=\",\".join(x)\n",
        "      protein_list_2.append(x)\n",
        "    count+=1"
      ],
      "metadata": {
        "id": "vSZe-nLJKUG_"
      },
      "execution_count": null,
      "outputs": []
    },
    {
      "cell_type": "code",
      "source": [
        "#importing files\n",
        "seq_3= open(\"/content/drive/MyDrive/Bayezid sir/residue_level/database/amino_acid_analysis/iprodna/Copy of pdna224.txt\", \"r\")\n",
        "count=0\n",
        "protein_list_3=[]\n",
        "c=0\n",
        "for x in seq_3:\n",
        "    \n",
        "    if(count%3==1):\n",
        "      c+=1\n",
        "      if(c==13):\n",
        "        break\n",
        "      #print(x)\n",
        "        \n",
        "      x=x.replace('\\n','')\n",
        "      x=\",\".join(x)\n",
        "      protein_list_3.append(x)\n",
        "    count+=1"
      ],
      "metadata": {
        "id": "sLlTWcLfH5eg"
      },
      "execution_count": null,
      "outputs": []
    },
    {
      "cell_type": "code",
      "source": [
        "protein_list_3"
      ],
      "metadata": {
        "id": "dKwwGgR7H-Ao",
        "colab": {
          "base_uri": "https://localhost:8080/"
        },
        "outputId": "2affaa70-1597-4789-dcc1-c9d78113fece"
      },
      "execution_count": null,
      "outputs": [
        {
          "output_type": "execute_result",
          "data": {
            "text/plain": [
              "['R,R,I,R,R,E,R,N,K,M,A,A,A,K,S,R,N,R,R,R,E,L,T,D,T,L,Q,A,E,T,D,Q,L,E,D,E,K,S,A,L,Q,T,E,I,A,N,L,L,K,E,K,E,K',\n",
              " 'W,P,L,S,S,Q,S,G,S,Y,E,L,R,I,E,V,Q,P,K,P,H,H,R,A,H,Y,E,T,E,G,S,R,G,A,V,K,A,P,T,G,G,H,P,V,V,Q,L,H,G,Y,M,E,N,K,P,L,G,L,Q,I,F,I,G,T,A,D,E,R,I,L,K,P,H,A,F,Y,Q,V,H,R,I,T,G,K,T,V,T,T,T,S,Y,E,K,I,V,G,N,T,K,V,L,E,I,P,L,E,P,K,N,N,M,R,A,T,I,D,C,A,G,I,L,K,L,R,N,A,D,I,E,L,R,K,G,E,T,D,I,G,R,K,N,T,R,V,R,L,V,F,R,V,H,I,P,E,S,S,G,R,I,V,S,L,Q,T,A,S,N,P,I,E,C,S,Q,R,S,A,H,E,L,P,M,V,E,R,Q,D,T,D,S,C,L,V,Y,G,G,Q,Q,M,I,L,T,G,Q,N,F,T,S,E,S,K,V,V,F,T,E,K,T,T,D,G,Q,Q,I,W,E,M,E,A,T,V,D,K,D,K,S,Q,P,N,M,L,F,V,E,I,P,E,Y,R,N,K,H,I,R,T,P,V,K,V,N,F,Y,V,I,N,G,K,R,K,R,S,Q,P,Q,H,F,T,Y,H,P,V',\n",
              " 'I,K,W,K,F,L,E,H,K,G,P,V,F,A,P,P,Y,E,P,L,P,E,N,V,K,F,Y,Y,D,G,K,V,M,K,L,S,P,K,A,E,E,V,A,T,F,F,A,K,M,L,D,H,E,Y,T,T,K,E,I,F,R,K,N,F,F,K,D,W,R,K,E,M,T,N,E,E,K,N,I,I,T,N,L,S,K,C,D,F,T,Q,M,S,Q,Y,F,K,A,Q,T,E,A,R,K,Q,M,S,K,E,E,K,L,K,I,K,E,E,N,E,K,L,L,K,E,Y,G,F,C,I,M,D,N,H,K,E,R,I,A,N,F,K,I,E,P,P,G,L,F,R,G,R,G,N,H,P,K,M,G,M,L,K,R,R,I,M,P,E,D,I,I,I,N,C,S,K,D,A,K,V,P,S,P,P,P,G,H,K,W,K,E,V,R,H,D,N,K,V,T,W,L,V,S,W,T,E,N,I,Q,G,S,I,K,Y,I,M,L,N,P,S,S,R,I,K,G,E,K,D,W,Q,K,Y,E,T,A,R,R,L,K,K,C,V,D,K,I,R,N,Q,Y,R,E,D,W,K,S,K,E,M,K,V,R,Q,R,A,V,A,L,Y,F,I,D,K,L,A,L,R,A,G,N,E,K,E,E,G,E,T,A,D,T,V,G,C,C,S,L,R,V,E,H,I,N,L,H,P,E,L,D,G,Q,E,Y,V,V,E,F,D,F,L,G,K,D,S,I,R,Y,Y,N,K,V,P,V,E,K,R,V,F,K,N,L,Q,L,F,M,E,N,K,Q,P,E,D,D,L,F,D,R,L,N,T,G,I,L,N,K,H,L,Q,D,L,M,E,G,L,T,A,K,V,F,R,T,Y,N,A,S,I,T,L,Q,Q,Q,L,K,E,L,T,A,P,D,E,N,I,P,A,K,I,L,S,Y,N,R,A,N,R,A,V,A,I,L,C,N,H,Q,R,A,Q,I,A,L,G,T,S,K,L,N,F,L,D,P,R,I,T,V,A,W,C,K,K,W,G,V,P,I,E,K,I,Y,N,K,T,Q,R,E,K,F,A,W,A,I,D,M,A,D,E,D,Y,E,F',\n",
              " 'A,L,T,N,A,Q,I,L,A,V,I,D,S,W,E,E,T,V,G,Q,F,P,V,I,T,H,H,V,P,L,G,G,G,L,Q,G,T,L,H,C,Y,E,I,P,L,A,A,P,Y,G,V,G,F,A,K,N,G,P,T,R,W,Q,Y,K,R,T,I,N,Q,V,V,H,R,W,G,S,H,T,V,P,F,L,L,E,P,D,N,I,N,G,K,T,C,T,A,S,H,L,C,H,N,T,R,C,H,N,P,L,H,L,C,W,E,S,L,D,D,N,K,G,R,N,W,C,P,G,P,N,G,G,C,V,H,A,V,V,C,L,R,Q,G,P,L,Y,G,P,G,A,T,V,A,G,P,Q,Q,R,G,S,H,F,V,V',\n",
              " 'M,K,K,R,L,T,I,T,L,S,E,S,V,L,E,N,L,E,K,M,A,R,E,M,G,L,S,K,S,A,M,I,S,V,A,L,E,N,Y,K,K,G,Q',\n",
              " 'K,G,G,W,F,G,K,H,R,G,Q,G,G,S,N,P,K,F,E,N,I,A,E,G,L,R,A,L,L,A,R,S,H,V,E,R,T,T,D,E,G,T,W,V,A,G,V,F,V,Y,G,G,S,K,T,S,L,Y,N,L,R,R,G,T,A,L,A,I,P,Q,C,R,L,T,P,L,S,R,L,P,F,G,M,A,P,G,P,G,P,Q,P,G,P,L,R,E,S,I,V,C,Y,F,M,V,F,L,Q,T,H,I,F,A,E,V,L,K,D,A,I,K,D,L,V,M,T,K,P,A,P,T,C,N,I,R,V,T,V,C,S,F,D,D,G,V,D,L,P',\n",
              " 'R,K,R,R,N,F,N,K,Q,A,T,E,I,L,N,E,Y,F,Y,S,H,L,S,N,P,Y,P,S,E,E,A,K,E,E,L,A,K,K,C,G,I,T,V,S,Q,V,S,N,W,F,G,N,K,R,I,R,Y,K,K,N,I,G,K,F,Q,E,E,A,N,I,Y,A,A',\n",
              " 'T,I,K,D,V,A,K,R,A,N,V,S,T,T,T,V,S,H,V,I,N,K,T,R,F,V,A,E,E,T,R,N,A,V,W,A,A,I,K,E,L,H,Y,S,P,S,A,V,A,R,S,L,A,V,N,H,T,K,S,I,G,L,L,A,T,S,S,E,A,A,Y,F,A,E,I,I,E,A,V,E,K,N,C,F,Q,K,G,Y,T,L,I,L,G,N,A,W,N,N,L,E,K,Q,R,A,Y,L,S,M,M,A,Q,K,R,V,D,G,L,L,V,M,C,S,E,Y,P,E,P,L,L,A,M,L,E,E,Y,R,H,I,P,M,V,V,M,D,W,G,E,A,K,A,D,F,T,D,A,V,I,D,N,A,F,E,G,G,Y,M,A,G,R,Y,L,I,E,R,G,H,R,E,I,G,V,I,P,G,P,L,E,R,N,T,G,A,G,R,L,A,G,F,M,K,A,M,E,E,A,M,I,K,V,P,E,S,W,I,V,Q,G,D,F,E,P,E,S,G,Y,R,A,M,Q,Q,I,L,S,Q,P,H,R,P,T,A,V,F,C,G,G,D,I,M,A,M,G,A,L,C,A,A,D,E,M,G,L,R,V,P,Q,D,V,S,L,I,G,Y,D,N,V,R,N,A,R,Y,F,T,P,A,L,T,T,I,H,Q,P,K,D,S,L,G,E,T,A,F,N,M,L,L,D,R,I,V,N,K,R,E,E,P,Q,S,I,E,V,H,P,R,L,I,E,R,R,S,V,A,D,G,P,F,R,D,Y,R',\n",
              " 'V,V,T,E,K,Q,Q,M,L,E,Q,H,L,Q,D,V,R,K,R,V,Q,D,L,E,Q,K,M,K,V,V,E,N,L,Q,D,D,F,D,F,N,Y,K,T,L,K,S,Q,G,D,S,V,T,R,Q,K,M,Q,Q,L,E,Q,M,L,T,A,L,D,Q,M,R,R,S,I,V,S,E,L,A,G,L,L,S,A,M,E,Y,V,Q,K,T,L,T,D,E,E,L,A,D,W,K,R,R,Q,Q,I,A,C,I,G,G,P,P,N,I,C,L,D,R,L,E,N,W,I,T,S,L,A,E,S,Q,L,Q,T,R,Q,Q,I,K,K,L,E,E,L,Q,Q,K,V,S,Y,K,G,D,P,I,V,Q,H,R,P,M,L,E,E,R,I,V,E,L,F,R,N,L,M,K,S,A,F,V,V,E,R,Q,P,C,M,P,M,H,P,D,R,P,L,V,I,K,T,G,V,Q,F,T,T,K,V,R,L,L,V,K,F,P,E,L,N,Y,Q,L,K,I,K,V,C,I,D,K,D,S,G,D,V,A,A,L,R,G,S,R,K,F,N,I,L,G,T,N,T,K,V,M,N,M,E,E,S,N,N,G,S,L,S,A,E,F,K,H,L,T,L,R,E,Q,R,C,G,N,G,G,R,A,N,C,D,A,S,L,I,V,T,E,E,L,H,L,I,T,F,E,T,E,V,Y,H,Q,G,L,K,I,D,L,E,T,H,S,L,P,V,V,V,I,S,N,I,C,Q,M,P,N,A,W,A,S,I,L,W,Y,N,M,L,T,N,N,P,K,N,V,N,F,F,T,K,P,P,I,G,T,W,D,Q,V,A,E,V,L,S,W,Q,F,S,S,T,T,K,R,G,L,S,I,E,Q,L,T,T,L,A,E,K,L,L,G,P,G,V,N,Y,S,G,C,Q,I,T,W,A,K,F,C,K,E,N,M,A,G,K,G,F,S,F,W,V,W,L,D,N,I,I,D,L,V,K,K,Y,I,L,A,L,W,N,E,G,Y,I,M,G,F,I,S,K,E,R,E,R,A,I,L,S,T,K,P,P,G,T,F,L,L,R,F,S,E,S,S,K,E,G,G,V,T,F,T,W,V,E,K,D,I,S,G,S,T,Q,I,Q,S,V,E,P,Y,T,K,Q,Q,L,N,N,M,S,F,A,E,I,I,M,G,Y,K,I,M,D,A,T,N,I,L,V,S,P,L,V,Y,L,Y,P,D,I,P,K,E,E,A,F,G,K,Y,C,R,A,A,P,L,K,T,K,F,I,C,V,T,P,F',\n",
              " 'A,P,Q,E,T,L,N,G,G,I,T,D,M,L,T,E,L,A,N,F,E,K,N,V,S,Q,A,I,H,K,Y,N,A,Y,R,K,A,A,S,V,I,A,K,Y,P,H,K,I,K,S,G,A,E,A,K,K,L,P,G,V,G,T,K,I,A,E,K,I,D,E,F,L,A,T,G,K,L,R,K,L,E,K,I,R,Q,D,D,T,S,S,S,I,N,F,L,T,R,V,S,G,I,G,P,S,A,A,R,K,F,V,D,E,G,I,K,T,L,E,D,L,R,K,N,E,D,K,L,N,H,H,Q,R,I,G,L,K,Y,F,G,D,F,E,K,R,I,P,R,E,E,M,L,Q,M,Q,D,I,V,L,N,E,V,K,K,V,D,S,E,Y,I,A,T,V,C,G,S,F,R,R,G,A,E,S,S,G,D,M,D,V,L,L,T,H,P,S,F,T,S,E,S,T,K,Q,P,K,L,L,H,Q,V,V,E,Q,L,Q,K,V,H,F,I,T,D,T,L,S,K,G,E,T,K,F,M,G,V,C,Q,L,P,S,K,N,D,E,K,E,Y,P,H,R,R,I,D,I,R,L,I,P,K,D,Q,Y,Y,C,G,V,L,Y,F,T,G,S,D,I,F,N,K,N,M,R,A,H,A,L,E,K,G,F,T,I,N,E,Y,T,I,R,P,L,G,V,T,G,V,A,G,E,P,L,P,V,D,S,E,K,D,I,F,D,Y,I,Q,W,K,Y,R,E,P,K,D,R,S,E',\n",
              " 'V,I,N,T,F,D,G,V,A,D,Y,L,Q,T,Y,H,K,L,P,D,N,Y,I,T,K,S,E,A,Q,A,L,G,W,V,A,S,K,G,N,L,A,D,V,A,P,G,K,S,I,G,G,D,I,F,S,N,R,E,G,K,L,P,G,K,S,G,R,T,W,R,E,A,D,I,N,Y,T,S,G,F,R,N,S,D,R,I,L,Y,S,S,D,W,L,I,Y,K,T,T,D,H,Y,Q,T,F,T,K,I,R',\n",
              " 'S,D,R,A,M,M,N,A,F,K,E,I,T,T,M,A,D,R,I,N,L,P,R,N,I,V,D,R,T,N,N,L,F,K,Q,V,Y,E,Q,K,S,L,K,G,R,A,N,D,A,I,A,S,A,C,L,Y,I,A,C,R,Q,E,G,V,P,R,T,F,K,E,I,C,A,V,S,R,I,S,K,K,E,I,G,R,C,F,K,L,I,L,K,A,L,E,T,S,V,D,L,I,T,T,G,D,F,M,S,R,F,C,S,N,L,C,L,P,K,Q,V,Q,M,A,A,T,H,I,A,R,K,A,V,E,L,D,L,V,P,G,R,S,P,I,S,V,A,A,A,A,I,Y,M,A,S,Q,A,S,A,E,K,R,T,Q,K,E,I,G,D,I,A,G,V,A,D,V,T,I,R,Q,S,Y,R,L,I,Y,P,R,A,P,D,L,F,P,T,D,F,K,F,D,T,P,V,D,K,L,P,Q,L']"
            ]
          },
          "metadata": {},
          "execution_count": 26
        }
      ]
    },
    {
      "cell_type": "code",
      "source": [
        "count=0\n",
        "seq=[]\n",
        "for item in protein_list:\n",
        "  item=item.replace(',','')\n",
        "  if(len(item)>93):\n",
        "    item=item[0:92]\n",
        "\n",
        "  for i in item:\n",
        "    if(i!=\",\"):\n",
        "      seq.append((i))\n",
        "\n",
        "      count+=1\n",
        "\n",
        "print(count)\n",
        "      "
      ],
      "metadata": {
        "colab": {
          "base_uri": "https://localhost:8080/"
        },
        "id": "GtPvHc6sCphm",
        "outputId": "0ce33f17-e2ef-4918-fd0b-8acffd3f4ef0"
      },
      "execution_count": null,
      "outputs": [
        {
          "output_type": "stream",
          "name": "stdout",
          "text": [
            "1728\n"
          ]
        }
      ]
    },
    {
      "cell_type": "code",
      "source": [
        "count=0\n",
        "seq_2=[]\n",
        "for item in protein_list_2:\n",
        "  item=item.replace(',','')\n",
        "  if(len(item)>93):\n",
        "    item=item[0:92]\n",
        "\n",
        "  for i in item:\n",
        "    if(i!=\",\"):\n",
        "      seq_2.append((i))\n",
        "\n",
        "      count+=1\n",
        "\n",
        "print(count)\n",
        "      "
      ],
      "metadata": {
        "colab": {
          "base_uri": "https://localhost:8080/"
        },
        "id": "oPZLQe6GK5P7",
        "outputId": "f2bd0c3d-e5ab-4523-f791-c7ae98208d80"
      },
      "execution_count": null,
      "outputs": [
        {
          "output_type": "stream",
          "name": "stdout",
          "text": [
            "1345\n"
          ]
        }
      ]
    },
    {
      "cell_type": "code",
      "source": [
        "count=0\n",
        "seq_3=[]\n",
        "for item in protein_list_3:\n",
        "  item=item.replace(',','')\n",
        "  if(len(item)>93):\n",
        "    item=item[0:92]\n",
        "\n",
        "  for i in item:\n",
        "    if(i!=\",\"):\n",
        "      seq_3.append((i))\n",
        "\n",
        "      count+=1\n",
        "\n",
        "print(count)\n",
        "      "
      ],
      "metadata": {
        "colab": {
          "base_uri": "https://localhost:8080/"
        },
        "id": "s98GZeikID_I",
        "outputId": "c5ae3651-34c4-46a0-e9ed-92f6220ec9f3"
      },
      "execution_count": null,
      "outputs": [
        {
          "output_type": "stream",
          "name": "stdout",
          "text": [
            "997\n"
          ]
        }
      ]
    },
    {
      "cell_type": "code",
      "source": [
        "seq_316=seq\n",
        "real_316=actual\n",
        "pred_316=labels"
      ],
      "metadata": {
        "id": "wlriz9HaJmc5"
      },
      "execution_count": null,
      "outputs": []
    },
    {
      "cell_type": "code",
      "source": [
        "len(seq_2)\n"
      ],
      "metadata": {
        "colab": {
          "base_uri": "https://localhost:8080/"
        },
        "id": "b_7csOaSMpI2",
        "outputId": "7a0036d4-5d02-497c-9b80-177961714de8"
      },
      "execution_count": null,
      "outputs": [
        {
          "output_type": "execute_result",
          "data": {
            "text/plain": [
              "1345"
            ]
          },
          "metadata": {},
          "execution_count": 31
        }
      ]
    },
    {
      "cell_type": "code",
      "source": [
        "seq_543=seq_2\n",
        "real_543=actual_2\n",
        "pred_543=labels2"
      ],
      "metadata": {
        "id": "20KdLkqCK-CJ"
      },
      "execution_count": null,
      "outputs": []
    },
    {
      "cell_type": "code",
      "source": [
        "seq_224=seq_3\n",
        "real_224=actual_3\n",
        "pred_224=labels3"
      ],
      "metadata": {
        "id": "urox4Ah4IKyi"
      },
      "execution_count": null,
      "outputs": []
    },
    {
      "cell_type": "code",
      "source": [
        "real_543"
      ],
      "metadata": {
        "colab": {
          "base_uri": "https://localhost:8080/"
        },
        "id": "8veC7hoAtB4g",
        "outputId": "cc970648-dc16-4a44-af01-ad51309e8414"
      },
      "execution_count": null,
      "outputs": [
        {
          "output_type": "execute_result",
          "data": {
            "text/plain": [
              "array([0, 0, 0, ..., 1, 0, 0])"
            ]
          },
          "metadata": {},
          "execution_count": 34
        }
      ]
    },
    {
      "cell_type": "code",
      "source": [
        "from numpy.lib.type_check import real\n",
        "dict_316_rec={}\n",
        "for i in range(len(seq_316)):\n",
        "  dict_316_rec.setdefault(seq_316[i],[])\n",
        "\n",
        "for i in range(len(seq_316)):\n",
        "  dict_316_rec[seq_316[i]].append([real_316[i],pred_316[i]])\n",
        "\n",
        "dict_316_rec\n",
        "dict_316_rec_res={}\n",
        "for key in dict_316_rec.keys():\n",
        "  \n",
        "  print(\"\\n\")\n",
        "  real=[]\n",
        "  pred=[]\n",
        "  for i in range(len(dict_316_rec[key])):\n",
        "    real.append(dict_316_rec[key][i][0])\n",
        "    pred.append(dict_316_rec[key][i][1])\n",
        "\n",
        "  res=report(real,pred)  \n",
        "  dict_316_rec_res[key]=res[3]\n",
        "\n",
        "\n",
        "\n",
        "\n",
        "from numpy.lib.type_check import real\n",
        "dict_543_rec={}\n",
        "for i in range(len(seq_543)):\n",
        "  dict_543_rec.setdefault(seq_543[i],[])\n",
        "\n",
        "for i in range(len(seq_543)):\n",
        "  dict_543_rec[seq_543[i]].append([real_543[i],pred_543[i]])\n",
        "\n",
        "dict_543_rec\n",
        "dict_543_rec_res={}\n",
        "for key in dict_543_rec.keys():\n",
        "  \n",
        "  print(\"\\n\")\n",
        "  real=[]\n",
        "  pred=[]\n",
        "  for i in range(len(dict_543_rec[key])):\n",
        "    real.append(dict_543_rec[key][i][0])\n",
        "    pred.append(dict_543_rec[key][i][1])\n",
        "\n",
        "  res=report(real,pred)  \n",
        "  dict_543_rec_res[key]=res[3]\n",
        "\n",
        "\n",
        "\n",
        "from numpy.lib.type_check import real\n",
        "dict_224_rec={}\n",
        "for i in range(len(seq_224)):\n",
        "  dict_224_rec.setdefault(seq_224[i],[])\n",
        "\n",
        "for i in range(len(seq_224)):\n",
        "  dict_224_rec[seq_224[i]].append([real_224[i],pred_224[i]])\n",
        "\n",
        "dict_224_rec\n",
        "dict_224_rec_res={}\n",
        "for key in dict_224_rec.keys():\n",
        "  \n",
        "  print(\"\\n\")\n",
        "  real=[]\n",
        "  pred=[]\n",
        "  for i in range(len(dict_224_rec[key])):\n",
        "    real.append(dict_224_rec[key][i][0])\n",
        "    pred.append(dict_224_rec[key][i][1])\n",
        "\n",
        "  res=report(real,pred)  \n",
        "  dict_224_rec_res[key]=res[3]\n",
        "\n",
        "\n"
      ],
      "metadata": {
        "id": "qNt9tdcLD0Fm",
        "colab": {
          "base_uri": "https://localhost:8080/"
        },
        "outputId": "957fb70b-cd56-42e6-c02f-9089997a97a0"
      },
      "execution_count": null,
      "outputs": [
        {
          "output_type": "stream",
          "name": "stdout",
          "text": [
            "\n",
            "\n",
            "Recll: 0.8666666666666667\n",
            "Specificity: 0.45871559633027525\n",
            "\n",
            "\n",
            "Recll: 0.0\n",
            "Specificity: 0.8478260869565217\n",
            "\n",
            "\n",
            "Recll: 0.7142857142857143\n",
            "Specificity: 0.7954545454545454\n",
            "\n",
            "\n",
            "Recll: 0.8125\n",
            "Specificity: 0.5375\n",
            "\n",
            "\n",
            "Recll: 1.0\n",
            "Specificity: 0.47619047619047616\n",
            "\n",
            "\n",
            "Recll: 0.8\n",
            "Specificity: 0.4864864864864865\n",
            "\n",
            "\n",
            "Recll: 1.0\n",
            "Specificity: 0.4722222222222222\n",
            "\n",
            "\n",
            "Recll: 1.0\n",
            "Specificity: 0.6173913043478261\n",
            "\n",
            "\n",
            "Recll: 0.6\n",
            "Specificity: 0.7727272727272727\n",
            "\n",
            "\n",
            "Recll: 0.3333333333333333\n",
            "Specificity: 0.8662420382165605\n",
            "\n",
            "\n",
            "Recll: 0.6666666666666666\n",
            "Specificity: 0.703125\n",
            "\n",
            "\n",
            "Recll: 0.6363636363636364\n",
            "Specificity: 0.5645161290322581\n",
            "\n",
            "\n",
            "Recll: 1.0\n",
            "Specificity: 0.34285714285714286\n",
            "\n",
            "\n",
            "Recll: 0.2\n",
            "Specificity: 0.8347826086956521\n",
            "\n",
            "\n",
            "Recll: 0.75\n",
            "Specificity: 0.4883720930232558\n",
            "\n",
            "\n",
            "Recll: 0.8\n",
            "Specificity: 0.5529411764705883\n",
            "\n",
            "\n",
            "Recll: 0.25\n",
            "Specificity: 0.6307692307692307\n",
            "\n",
            "\n",
            "Recll: 0.9259259259259259\n",
            "Specificity: 0.17721518987341772\n",
            "\n",
            "\n",
            "Recll: 0.0\n",
            "Specificity: 0.782608695652174\n",
            "\n",
            "\n"
          ]
        },
        {
          "output_type": "stream",
          "name": "stderr",
          "text": [
            "/usr/local/lib/python3.8/dist-packages/sklearn/metrics/_classification.py:1318: UndefinedMetricWarning: Recall is ill-defined and being set to 0.0 due to no true samples. Use `zero_division` parameter to control this behavior.\n",
            "  _warn_prf(average, modifier, msg_start, len(result))\n",
            "/usr/local/lib/python3.8/dist-packages/sklearn/metrics/_classification.py:1318: UndefinedMetricWarning: Recall is ill-defined and being set to 0.0 due to no true samples. Use `zero_division` parameter to control this behavior.\n",
            "  _warn_prf(average, modifier, msg_start, len(result))\n"
          ]
        },
        {
          "output_type": "stream",
          "name": "stdout",
          "text": [
            "Recll: 0.5\n",
            "Specificity: 0.7741935483870968\n",
            "\n",
            "\n",
            "Recll: 0.8571428571428571\n",
            "Specificity: 0.7857142857142857\n",
            "\n",
            "\n",
            "Recll: 0.0\n",
            "Specificity: 0.9042553191489362\n",
            "\n",
            "\n",
            "Recll: 0.8421052631578947\n",
            "Specificity: 0.4811320754716981\n",
            "\n",
            "\n",
            "Recll: 0.3333333333333333\n",
            "Specificity: 0.9247311827956989\n",
            "\n",
            "\n",
            "Recll: 0.8235294117647058\n",
            "Specificity: 0.5285714285714286\n",
            "\n",
            "\n",
            "Recll: 0.7\n",
            "Specificity: 0.6060606060606061\n",
            "\n",
            "\n",
            "Recll: 1.0\n",
            "Specificity: 0.5283018867924528\n",
            "\n",
            "\n",
            "Recll: 0.0\n",
            "Specificity: 0.8421052631578947\n",
            "\n",
            "\n",
            "Recll: 0.8695652173913043\n",
            "Specificity: 0.375\n",
            "\n",
            "\n",
            "Recll: 0.8823529411764706\n",
            "Specificity: 0.5111111111111111\n",
            "\n",
            "\n",
            "Recll: 0.5\n",
            "Specificity: 0.9285714285714286\n",
            "\n",
            "\n",
            "Recll: 1.0\n",
            "Specificity: 0.58\n",
            "\n",
            "\n",
            "Recll: 1.0\n",
            "Specificity: 0.74\n",
            "\n",
            "\n",
            "Recll: 0.6666666666666666\n",
            "Specificity: 0.8275862068965517\n",
            "\n",
            "\n",
            "Recll: 1.0\n",
            "Specificity: 0.8229166666666666\n",
            "\n",
            "\n",
            "Recll: 0.8\n",
            "Specificity: 0.6027397260273972\n",
            "\n",
            "\n",
            "Recll: 0.0\n",
            "Specificity: 0.9032258064516129\n",
            "\n",
            "\n",
            "Recll: 0.5\n",
            "Specificity: 0.6744186046511628\n",
            "\n",
            "\n",
            "Recll: 1.0"
          ]
        },
        {
          "output_type": "stream",
          "name": "stderr",
          "text": [
            "/usr/local/lib/python3.8/dist-packages/sklearn/metrics/_classification.py:1318: UndefinedMetricWarning: Recall is ill-defined and being set to 0.0 due to no true samples. Use `zero_division` parameter to control this behavior.\n",
            "  _warn_prf(average, modifier, msg_start, len(result))\n",
            "/usr/local/lib/python3.8/dist-packages/sklearn/metrics/_classification.py:1318: UndefinedMetricWarning: Recall is ill-defined and being set to 0.0 due to no true samples. Use `zero_division` parameter to control this behavior.\n",
            "  _warn_prf(average, modifier, msg_start, len(result))\n"
          ]
        },
        {
          "output_type": "stream",
          "name": "stdout",
          "text": [
            "\n",
            "Specificity: 0.6363636363636364\n",
            "\n",
            "\n",
            "Recll: 1.0\n",
            "Specificity: 0.45454545454545453\n",
            "\n",
            "\n",
            "Recll: 0.8181818181818182\n",
            "Specificity: 0.5\n",
            "\n",
            "\n",
            "Recll: 0.0\n",
            "Specificity: 0.5892857142857143\n",
            "\n",
            "\n",
            "Recll: 0.3333333333333333\n",
            "Specificity: 0.6527777777777778\n",
            "\n",
            "\n",
            "Recll: 0.8888888888888888\n",
            "Specificity: 0.6097560975609756\n",
            "\n",
            "\n",
            "Recll: 0.7368421052631579\n",
            "Specificity: 0.6197183098591549\n",
            "\n",
            "\n",
            "Recll: 0.0\n",
            "Specificity: 0.5238095238095238\n",
            "\n",
            "\n",
            "Recll: 0.6666666666666666\n",
            "Specificity: 0.5526315789473685\n",
            "\n",
            "\n",
            "Recll: 0.6666666666666666\n",
            "Specificity: 0.5192307692307693\n",
            "\n",
            "\n",
            "Recll: 0.0\n",
            "Specificity: 0.6666666666666666\n",
            "\n",
            "\n",
            "Recll: 0.5555555555555556\n",
            "Specificity: 0.543859649122807\n",
            "\n",
            "\n",
            "Recll: 1.0\n",
            "Specificity: 0.5882352941176471\n",
            "\n",
            "\n",
            "Recll: 1.0\n",
            "Specificity: 0.6829268292682927\n",
            "\n",
            "\n",
            "Recll: 1.0\n",
            "Specificity: 0.36363636363636365\n",
            "\n",
            "\n",
            "Recll: 0.5\n",
            "Specificity: 0.43243243243243246\n",
            "\n",
            "\n",
            "Recll: 0.7\n",
            "Specificity: 0.509090909090909\n",
            "\n",
            "\n",
            "Recll: 0.4\n",
            "Specificity: 0.6\n",
            "\n",
            "\n",
            "Recll: 1.0\n",
            "Specificity: 0.7358490566037735\n",
            "\n",
            "\n",
            "Recll: 1.0\n",
            "Specificity: 0.5454545454545454\n",
            "\n",
            "\n",
            "Recll: 0.5\n",
            "Specificity: 0.5\n",
            "\n",
            "\n",
            "Recll: 0.0\n",
            "Specificity: 0.7777777777777778\n"
          ]
        },
        {
          "output_type": "stream",
          "name": "stderr",
          "text": [
            "/usr/local/lib/python3.8/dist-packages/sklearn/metrics/_classification.py:1318: UndefinedMetricWarning: Recall is ill-defined and being set to 0.0 due to no true samples. Use `zero_division` parameter to control this behavior.\n",
            "  _warn_prf(average, modifier, msg_start, len(result))\n"
          ]
        }
      ]
    },
    {
      "cell_type": "code",
      "source": [
        "dict_224_sort={}\n",
        "for i in sorted(dict_224_rec_res):\n",
        "    dict_224_sort[i]=dict_224_rec_res[i]\n",
        "\n",
        "dict_316_sort={}\n",
        "for i in sorted(dict_316_rec_res):\n",
        "    dict_316_sort[i]=dict_316_rec_res[i]\n",
        "\n",
        "dict_543_sort={}\n",
        "for i in sorted(dict_543_rec_res):\n",
        "    dict_543_sort[i]=dict_543_rec_res[i]\n",
        "\n",
        "dict_224_rec_res=dict_224_sort\n",
        "dict_316_rec_res=dict_316_sort\n",
        "dict_543_rec_res=dict_543_sort"
      ],
      "metadata": {
        "id": "DmQIlaXTLYHv"
      },
      "execution_count": null,
      "outputs": []
    },
    {
      "cell_type": "code",
      "source": [
        "list_224=[]\n",
        "list_316=[]\n",
        "list_543=[]\n",
        "\n",
        "\n",
        "\n",
        "for i in  dict_316_rec_res.values():\n",
        "  list_316.append(i)\n",
        "\n",
        "indexes=[]\n",
        "for i in  dict_316_rec_res.keys():\n",
        "  indexes.append(i)\n",
        "\n",
        "\n",
        "\n",
        "for i in  dict_543_rec_res.values():\n",
        "  list_543.append(i)\n",
        "\n",
        "\n",
        "for i in  dict_224_rec_res.values():\n",
        "  list_224.append(i)\n",
        "\n"
      ],
      "metadata": {
        "id": "NoeA7WNAD8uf"
      },
      "execution_count": null,
      "outputs": []
    },
    {
      "cell_type": "code",
      "source": [
        "import pandas as pd\n",
        "import matplotlib.pyplot as plt\n",
        "\n",
        "plotdata = pd.DataFrame({\n",
        "    \"PDNA_224\":list_224,\n",
        "    \"PDNA_316\":list_316,\n",
        "    \"PDNA_543\":list_543,\n",
        " \n",
        "    }, \n",
        "    index=indexes\n",
        ")\n",
        "plt.rcParams.update({'font.size': 14})\n",
        "plt.rcParams[\"figure.figsize\"] = (15,5)\n",
        "\n",
        "fig=plotdata.plot(kind=\"bar\").get_figure()\n",
        "plt.xlabel(\"Amino Acid Residue\")\n",
        "plt.ylabel(\"Sensitivity\")\n",
        "plt.legend(bbox_to_anchor=(0, 1.3), loc='upper left', borderaxespad=0)\n",
        "fig.savefig('specificity_iprot', bbox_inches='tight',dpi=300)\n",
        "#fig.savefig(\"accuracy.png\",dpi=100)\n"
      ],
      "metadata": {
        "colab": {
          "base_uri": "https://localhost:8080/",
          "height": 423
        },
        "id": "pzCzT7SeKArZ",
        "outputId": "a8703a7c-8ba3-4b35-a4e0-e536a8bd876a"
      },
      "execution_count": null,
      "outputs": [
        {
          "output_type": "display_data",
          "data": {
            "text/plain": [
              "<Figure size 1080x360 with 1 Axes>"
            ],
            "image/png": "[encoded data removed]"
          },
          "metadata": {
            "needs_background": "light"
          }
        }
      ]
    },
    {
      "cell_type": "code",
      "source": [
        "import pandas as pd\n",
        "import matplotlib.cm as cm\n",
        "import numpy as np\n",
        "import matplotlib.pyplot as plt\n",
        "\n",
        "def plot_clustered_stacked(dfall, labels=None, title=\"multiple stacked bar plot\",  H=\"/\", **kwargs):\n",
        "    \"\"\"Given a list of dataframes, with identical columns and index, create a clustered stacked bar plot. \n",
        "labels is a list of the names of the dataframe, used for the legend\n",
        "title is a string for the title of the plot\n",
        "H is the hatch used for identification of the different dataframe\"\"\"\n",
        "\n",
        "    n_df = len(dfall)\n",
        "    n_col = len(dfall[0].columns) \n",
        "    n_ind = len(dfall[0].index)\n",
        "    axe = plt.subplot(111)\n",
        "\n",
        "    for df in dfall : # for each data frame\n",
        "        axe = df.plot(kind=\"bar\",\n",
        "                      linewidth=0,\n",
        "                      stacked=True,\n",
        "                      ax=axe,\n",
        "                      legend=False,\n",
        "                      grid=False,\n",
        "                      **kwargs)  # make bar plots\n",
        "\n",
        "    h,l = axe.get_legend_handles_labels() # get the handles we want to modify\n",
        "    for i in range(0, n_df * n_col, n_col): # len(h) = n_col * n_df\n",
        "        for j, pa in enumerate(h[i:i+n_col]):\n",
        "            for rect in pa.patches: # for each index\n",
        "                rect.set_x(rect.get_x() + 1 / float(n_df + 1) * i / float(n_col))\n",
        "                rect.set_hatch(H * int(i / n_col)) #edited part     \n",
        "                rect.set_width(1 / float(n_df + 1))\n",
        "\n",
        "    axe.set_xticks((np.arange(0, 2 * n_ind, 2) + 1 / float(n_df + 1)) / 2.)\n",
        "    axe.set_xticklabels(df.index, rotation = 0)\n",
        "    axe.set_title(title)\n",
        "\n",
        "    # Add invisible data to add another legend\n",
        "    n=[]        \n",
        "    for i in range(n_df):\n",
        "        n.append(axe.bar(0, 0, color=\"gray\", hatch=H * i))\n",
        "\n",
        "    l1 = axe.legend(h[:n_col], l[:n_col], loc=[1.01, 0.5])\n",
        "    if labels is not None:\n",
        "        l2 = plt.legend(n, labels, loc=[1.01, 0.1]) \n",
        "    axe.add_artist(l1)\n",
        "    return axe\n",
        "\n",
        "# create fake dataframes\n",
        "df1 = pd.DataFrame(np.random.rand(4, 5),\n",
        "                   index=[\"A\", \"B\", \"C\", \"D\"],\n",
        "                   columns=[\"I\", \"J\", \"K\", \"L\", \"M\"])\n",
        "df2 = pd.DataFrame(np.random.rand(4, 5),\n",
        "                   index=[\"A\", \"B\", \"C\", \"D\"],\n",
        "                   columns=[\"I\", \"J\", \"K\", \"L\", \"M\"])\n",
        "df3 = pd.DataFrame(np.random.rand(4, 5),\n",
        "                   index=[\"A\", \"B\", \"C\", \"D\"], \n",
        "                   columns=[\"I\", \"J\", \"K\", \"L\", \"M\"])\n",
        "\n",
        "# Then, just call :\n",
        "plot_clustered_stacked([df1, df2, df3],[\"df1\", \"df2\", \"df3\"])"
      ],
      "metadata": {
        "colab": {
          "base_uri": "https://localhost:8080/",
          "height": 361
        },
        "id": "918fUzNx47Mn",
        "outputId": "daba0a2d-6821-49ac-a767-0ca26be71806"
      },
      "execution_count": null,
      "outputs": [
        {
          "output_type": "execute_result",
          "data": {
            "text/plain": [
              "<matplotlib.axes._subplots.AxesSubplot at 0x7f20b442d700>"
            ]
          },
          "metadata": {},
          "execution_count": 43
        },
        {
          "output_type": "display_data",
          "data": {
            "text/plain": [
              "<Figure size 1080x360 with 1 Axes>"
            ],
            "image/png": "[encoded data removed]"
          },
          "metadata": {
            "needs_background": "light"
          }
        }
      ]
    },
    {
      "cell_type": "code",
      "source": [
        "df1"
      ],
      "metadata": {
        "id": "blcG8bi4KJa3",
        "colab": {
          "base_uri": "https://localhost:8080/",
          "height": 175
        },
        "outputId": "29529a03-b75b-4968-d2ce-51870edb8960"
      },
      "execution_count": null,
      "outputs": [
        {
          "output_type": "execute_result",
          "data": {
            "text/plain": [
              "          I         J         K         L         M\n",
              "A  0.545014  0.186085  0.530114  0.774358  0.159135\n",
              "B  0.448663  0.277782  0.787234  0.905293  0.318159\n",
              "C  0.588831  0.455432  0.078011  0.064616  0.971833\n",
              "D  0.499647  0.824453  0.645578  0.631674  0.288747"
            ],
            "text/html": [
              "\n",
              "  <div id=\"df-f9e5cde9-2685-4a15-b02b-af66ed393136\">\n",
              "    <div class=\"colab-df-container\">\n",
              "      <div>\n",
              "<style scoped>\n",
              "    .dataframe tbody tr th:only-of-type {\n",
              "        vertical-align: middle;\n",
              "    }\n",
              "\n",
              "    .dataframe tbody tr th {\n",
              "        vertical-align: top;\n",
              "    }\n",
              "\n",
              "    .dataframe thead th {\n",
              "        text-align: right;\n",
              "    }\n",
              "</style>\n",
              "<table border=\"1\" class=\"dataframe\">\n",
              "  <thead>\n",
              "    <tr style=\"text-align: right;\">\n",
              "      <th></th>\n",
              "      <th>I</th>\n",
              "      <th>J</th>\n",
              "      <th>K</th>\n",
              "      <th>L</th>\n",
              "      <th>M</th>\n",
              "    </tr>\n",
              "  </thead>\n",
              "  <tbody>\n",
              "    <tr>\n",
              "      <th>A</th>\n",
              "      <td>0.545014</td>\n",
              "      <td>0.186085</td>\n",
              "      <td>0.530114</td>\n",
              "      <td>0.774358</td>\n",
              "      <td>0.159135</td>\n",
              "    </tr>\n",
              "    <tr>\n",
              "      <th>B</th>\n",
              "      <td>0.448663</td>\n",
              "      <td>0.277782</td>\n",
              "      <td>0.787234</td>\n",
              "      <td>0.905293</td>\n",
              "      <td>0.318159</td>\n",
              "    </tr>\n",
              "    <tr>\n",
              "      <th>C</th>\n",
              "      <td>0.588831</td>\n",
              "      <td>0.455432</td>\n",
              "      <td>0.078011</td>\n",
              "      <td>0.064616</td>\n",
              "      <td>0.971833</td>\n",
              "    </tr>\n",
              "    <tr>\n",
              "      <th>D</th>\n",
              "      <td>0.499647</td>\n",
              "      <td>0.824453</td>\n",
              "      <td>0.645578</td>\n",
              "      <td>0.631674</td>\n",
              "      <td>0.288747</td>\n",
              "    </tr>\n",
              "  </tbody>\n",
              "</table>\n",
              "</div>\n",
              "      <button class=\"colab-df-convert\" onclick=\"convertToInteractive('df-f9e5cde9-2685-4a15-b02b-af66ed393136')\"\n",
              "              title=\"Convert this dataframe to an interactive table.\"\n",
              "              style=\"display:none;\">\n",
              "        \n",
              "  <svg xmlns=\"http://www.w3.org/2000/svg\" height=\"24px\"viewBox=\"0 0 24 24\"\n",
              "       width=\"24px\">\n",
              "    <path d=\"M0 0h24v24H0V0z\" fill=\"none\"/>\n",
              "    <path d=\"M18.56 5.44l.94 2.06.94-2.06 2.06-.94-2.06-.94-.94-2.06-.94 2.06-2.06.94zm-11 1L8.5 8.5l.94-2.06 2.06-.94-2.06-.94L8.5 2.5l-.94 2.06-2.06.94zm10 10l.94 2.06.94-2.06 2.06-.94-2.06-.94-.94-2.06-.94 2.06-2.06.94z\"/><path d=\"M17.41 7.96l-1.37-1.37c-.4-.4-.92-.59-1.43-.59-.52 0-1.04.2-1.43.59L10.3 9.45l-7.72 7.72c-.78.78-.78 2.05 0 2.83L4 21.41c.39.39.9.59 1.41.59.51 0 1.02-.2 1.41-.59l7.78-7.78 2.81-2.81c.8-.78.8-2.07 0-2.86zM5.41 20L4 18.59l7.72-7.72 1.47 1.35L5.41 20z\"/>\n",
              "  </svg>\n",
              "      </button>\n",
              "      \n",
              "  <style>\n",
              "    .colab-df-container {\n",
              "      display:flex;\n",
              "      flex-wrap:wrap;\n",
              "      gap: 12px;\n",
              "    }\n",
              "\n",
              "    .colab-df-convert {\n",
              "      background-color: #E8F0FE;\n",
              "      border: none;\n",
              "      border-radius: 50%;\n",
              "      cursor: pointer;\n",
              "      display: none;\n",
              "      fill: #1967D2;\n",
              "      height: 32px;\n",
              "      padding: 0 0 0 0;\n",
              "      width: 32px;\n",
              "    }\n",
              "\n",
              "    .colab-df-convert:hover {\n",
              "      background-color: #E2EBFA;\n",
              "      box-shadow: 0px 1px 2px rgba(60, 64, 67, 0.3), 0px 1px 3px 1px rgba(60, 64, 67, 0.15);\n",
              "      fill: #174EA6;\n",
              "    }\n",
              "\n",
              "    [theme=dark] .colab-df-convert {\n",
              "      background-color: #3B4455;\n",
              "      fill: #D2E3FC;\n",
              "    }\n",
              "\n",
              "    [theme=dark] .colab-df-convert:hover {\n",
              "      background-color: #434B5C;\n",
              "      box-shadow: 0px 1px 3px 1px rgba(0, 0, 0, 0.15);\n",
              "      filter: drop-shadow(0px 1px 2px rgba(0, 0, 0, 0.3));\n",
              "      fill: #FFFFFF;\n",
              "    }\n",
              "  </style>\n",
              "\n",
              "      <script>\n",
              "        const buttonEl =\n",
              "          document.querySelector('#df-f9e5cde9-2685-4a15-b02b-af66ed393136 button.colab-df-convert');\n",
              "        buttonEl.style.display =\n",
              "          google.colab.kernel.accessAllowed ? 'block' : 'none';\n",
              "\n",
              "        async function convertToInteractive(key) {\n",
              "          const element = document.querySelector('#df-f9e5cde9-2685-4a15-b02b-af66ed393136');\n",
              "          const dataTable =\n",
              "            await google.colab.kernel.invokeFunction('convertToInteractive',\n",
              "                                                     [key], {});\n",
              "          if (!dataTable) return;\n",
              "\n",
              "          const docLinkHtml = 'Like what you see? Visit the ' +\n",
              "            '<a target=\"_blank\" href=https://colab.research.google.com/notebooks/data_table.ipynb>data table notebook</a>'\n",
              "            + ' to learn more about interactive tables.';\n",
              "          element.innerHTML = '';\n",
              "          dataTable['output_type'] = 'display_data';\n",
              "          await google.colab.output.renderOutput(dataTable, element);\n",
              "          const docLink = document.createElement('div');\n",
              "          docLink.innerHTML = docLinkHtml;\n",
              "          element.appendChild(docLink);\n",
              "        }\n",
              "      </script>\n",
              "    </div>\n",
              "  </div>\n",
              "  "
            ]
          },
          "metadata": {},
          "execution_count": 44
        }
      ]
    },
    {
      "cell_type": "code",
      "source": [
        "plotdata.to_csv(\"iprodna_sensitivity.csv\")"
      ],
      "metadata": {
        "id": "AkFAiQPT5Yed"
      },
      "execution_count": null,
      "outputs": []
    },
    {
      "cell_type": "markdown",
      "source": [
        "2--> sensitivity\n",
        "3--> specificity"
      ],
      "metadata": {
        "id": "YhgoBNxRI_g5"
      }
    },
    {
      "cell_type": "code",
      "source": [],
      "metadata": {
        "id": "hk6Ag124JCTH"
      },
      "execution_count": null,
      "outputs": []
    }
  ]
}